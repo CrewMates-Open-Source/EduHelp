{
  "nbformat": 4,
  "nbformat_minor": 0,
  "metadata": {
    "colab": {
      "name": "Text_to_Speech.ipynb",
      "provenance": []
    },
    "kernelspec": {
      "name": "python3",
      "display_name": "Python 3"
    },
    "language_info": {
      "name": "python"
    }
  },
  "cells": [
    {
      "cell_type": "markdown",
      "metadata": {
        "id": "zOVFGO0x0iP9"
      },
      "source": [
        "# Install gtts package"
      ]
    },
    {
      "cell_type": "code",
      "metadata": {
        "colab": {
          "base_uri": "https://localhost:8080/"
        },
        "id": "PxqKdDPOzjIC",
        "outputId": "4200ddc5-1d89-40eb-da63-a707c4beb821"
      },
      "source": [
        "!pip install gtts"
      ],
      "execution_count": 1,
      "outputs": [
        {
          "output_type": "stream",
          "text": [
            "Collecting gtts\n",
            "  Downloading https://files.pythonhosted.org/packages/5f/b9/94e59337107be134b21ce395a29fc0715b707b560108d6797de2d93e1178/gTTS-2.2.2-py3-none-any.whl\n",
            "Requirement already satisfied: six in /usr/local/lib/python3.7/dist-packages (from gtts) (1.15.0)\n",
            "Requirement already satisfied: click in /usr/local/lib/python3.7/dist-packages (from gtts) (7.1.2)\n",
            "Requirement already satisfied: requests in /usr/local/lib/python3.7/dist-packages (from gtts) (2.23.0)\n",
            "Requirement already satisfied: idna<3,>=2.5 in /usr/local/lib/python3.7/dist-packages (from requests->gtts) (2.10)\n",
            "Requirement already satisfied: certifi>=2017.4.17 in /usr/local/lib/python3.7/dist-packages (from requests->gtts) (2020.12.5)\n",
            "Requirement already satisfied: chardet<4,>=3.0.2 in /usr/local/lib/python3.7/dist-packages (from requests->gtts) (3.0.4)\n",
            "Requirement already satisfied: urllib3!=1.25.0,!=1.25.1,<1.26,>=1.21.1 in /usr/local/lib/python3.7/dist-packages (from requests->gtts) (1.24.3)\n",
            "Installing collected packages: gtts\n",
            "Successfully installed gtts-2.2.2\n"
          ],
          "name": "stdout"
        }
      ]
    },
    {
      "cell_type": "markdown",
      "metadata": {
        "id": "zPrt2uS90zvM"
      },
      "source": [
        "# Import Dependencies"
      ]
    },
    {
      "cell_type": "code",
      "metadata": {
        "id": "BRgYvvnQzlB1"
      },
      "source": [
        "from gtts import gTTS\n",
        "import os"
      ],
      "execution_count": 7,
      "outputs": []
    },
    {
      "cell_type": "markdown",
      "metadata": {
        "id": "439HRiVf029x"
      },
      "source": [
        "# save the input text in mytext variable "
      ]
    },
    {
      "cell_type": "code",
      "metadata": {
        "id": "acR7W2YjzwHK"
      },
      "source": [
        "mytext=\"GSSoC is a 3 month long program with good exposure to open source.\""
      ],
      "execution_count": 8,
      "outputs": []
    },
    {
      "cell_type": "markdown",
      "metadata": {
        "id": "lkt6JSlF1BEa"
      },
      "source": [
        "# Text to speech conversion"
      ]
    },
    {
      "cell_type": "code",
      "metadata": {
        "id": "qtzSARWKz6vg"
      },
      "source": [
        "output=gTTS(text=mytext,lang='en',slow=False)"
      ],
      "execution_count": 9,
      "outputs": []
    },
    {
      "cell_type": "markdown",
      "metadata": {
        "id": "eXTMKM7I1Gh_"
      },
      "source": [
        "# Save output"
      ]
    },
    {
      "cell_type": "code",
      "metadata": {
        "id": "sF5gH-GH0KcX"
      },
      "source": [
        "output.save(\"output.mp3\")"
      ],
      "execution_count": 10,
      "outputs": []
    }
  ]
}