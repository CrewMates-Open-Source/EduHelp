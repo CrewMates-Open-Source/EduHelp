{
  "nbformat": 4,
  "nbformat_minor": 0,
  "metadata": {
    "colab": {
      "name": "Extraction_Based_Summarizer.ipynb",
      "provenance": [],
      "collapsed_sections": []
    },
    "kernelspec": {
      "name": "python3",
      "display_name": "Python 3"
    },
    "language_info": {
      "name": "python"
    }
  },
  "cells": [
    {
      "cell_type": "code",
      "metadata": {
        "id": "ILNXDRCbo7ai",
        "colab": {
          "base_uri": "https://localhost:8080/"
        },
        "outputId": "10689924-dd61-4cfd-e4a1-59098ea550b1"
      },
      "source": [
        "# The following summarizer extracts important 50% of the sentences through summarization through extraction\n",
        "import nltk\n",
        "nltk.download('stopwords')\n",
        "nltk.download('punkt')\n",
        "\n",
        "import re\n",
        "import heapq\n",
        "import numpy as np\n",
        "import pandas as pd\n",
        "import sys\n",
        "\n",
        "def read_text(path):\n",
        "  with open(path, 'r') as f:\n",
        "    file_data = f.read()\n",
        "  text = file_data\n",
        "  return text\n",
        "\n",
        "def rank_sentence(text, clean_text):\n",
        "  sentences = nltk.sent_tokenize(text)\n",
        "  stop_words = nltk.corpus.stopwords.words('english')\n",
        "  #counts word frequency\n",
        "  word_count = {}\n",
        "  for word in nltk.word_tokenize(clean_text):\n",
        "    if word not in stop_words:\n",
        "      if word not in word_count.keys():\n",
        "        word_count[word] = 1\n",
        "      else:\n",
        "        word_count[word] += 1\n",
        "  # ranking sentence based on word frequency\n",
        "  sentence_score = {}\n",
        "  for sentence in sentences:\n",
        "    for word in nltk.word_tokenize(sentence.lower()):\n",
        "      if word in word_count.keys():\n",
        "        if sentence not in sentence_score.keys():\n",
        "          sentence_score[sentence] = word_count[word]\n",
        "        else:\n",
        "          sentence_score[sentence] += word_count[word]\n",
        "  return sentence_score\n",
        "\n",
        "def generate_summary_from_file(path):\n",
        "  text = read_text(path)\n",
        "  summary = generate_text_summary(text)\n",
        "  return summary\n",
        "def enhance_text(text):\n",
        "  # removes clutter in text for unique word extraction\n",
        "  text = re.sub(r'\\[[0-9]*\\]',' ',text)\n",
        "  text = re.sub(r'\\s+',' ',text)\n",
        "  clean_text = text.lower()\n",
        "  regex_patterns = [r'\\W',r'\\d',r'\\s+']\n",
        "  for regex in regex_patterns:\n",
        "    clean_text = re.sub(regex,' ',clean_text)\n",
        "  return clean_text,text\n",
        "\n",
        "def generate_text_summary(text):\n",
        "  clean_text,text = enhance_text(text)\n",
        "  sentence_score = rank_sentence(text, clean_text)\n",
        "  #extracting top 50% of sentence based on rank\n",
        "  best_sentences = heapq.nlargest(int(len(sentence_score)//2), sentence_score, key=sentence_score.get)\n",
        "  summarized_text = []\n",
        "  sentences = nltk.sent_tokenize(text)\n",
        "  for sentence in sentences:\n",
        "    if sentence in best_sentences:\n",
        "      summarized_text.append(sentence)\n",
        "  summarized_text = \"\\n\".join(summarized_text)\n",
        "  print(summarized_text)\n",
        "  return summarized_text\n",
        "def main():\n",
        "    '''\n",
        "    #THE FOLLOWING COMMENTED CODE IS FOR FILE BASED IMPLIMENTATION\n",
        "\n",
        "    file_path = input('1. Enter text file name: ')\n",
        "    output_location = file_path[:-4]+\"_sum.txt\"\n",
        "    \n",
        "    summary = generate_summary_from_file(file_path)\n",
        "    text_file = open(output_location, \"w\")\n",
        "    text_file.write(summary)\n",
        "    text_file.close()\n",
        "    print('Summarization task completed. Please check your output file located in '+output_location)\n",
        "    '''\n",
        "    text = '''\n",
        "    The possibility of life on Mars has excited the imagination. Among the scientific community, the current thinking is that life may have existed on the earth’s ruddy planetary neighbour a long time ago. Understanding this will enrich our studies of evolution and nurture of life outside the earth. The recent NASA mission, Mars 2020, that was launched from Cape Canaveral, Florida on July 30, 2020, landed on the Jezero Crater in Mars on February 18, to much celebration. Of special magnificence was the entry, descent and landing of the mission’s Perseverance rover, described as the ‘shortest and most intense part’. Entering the Martian atmosphere at about 20,000 km per hour, the mission had to bring the Perseverance rover to a halt on the surface in just seven minutes. Also, since it takes 11 minutes for a radio signal to reach the earth from Mars, the mission control could not really guide the landing, and the rover had to complete this process by itself. During the complicated landing process, using a camera eye, the rover checked the ground below to avoid hazardous terrain, all in a few breathtaking minutes.\n",
        "NASA’s exploration of Mars has focused on finding traces and trails of water that may have existed, and relate it to finding evidence of ancient life. Its earlier Mars expedition which carried the Curiosity rover, landed on August 5, 2012. It identified regions that could have hosted life. Expected to last at least the duration of one Mars year, or about 687 earth days, the science goals this time are to look for signs of ancient life and collect rock and soil samples. Perseverance will take the inquiry made by Curiosity to the next level and search for signs of past life by studying the Jezero Crater. The crater was chosen for study as based on an earlier aerial survey, it was found to be home to an ancient delta. Clay minerals and carbonates were seen, making the crater a good place to search for life’s existence. Further, the rover will study the geology here and store samples in a place that can be accessed by a future mission which would return them to the earth. The rover will test out technologies that could help sustain the presence of humans there in the future. This includes an instrument to extract oxygen from the atmospheric carbon dioxide. The rover also carries a helicopter named Ingenuity that is specially designed to fly in Mars’s thin atmosphere; its sole purpose would be to demonstrate flight on Mars. Finally, to the question whether little green microbes did inhabit Mars in the distant past — only time and Perseverance can answer that.\n",
        "'''\n",
        "    generate_text_summary(text)\n",
        "if __name__ == '__main__':\n",
        "    main()"
      ],
      "execution_count": 11,
      "outputs": [
        {
          "output_type": "stream",
          "text": [
            "[nltk_data] Downloading package stopwords to /root/nltk_data...\n",
            "[nltk_data]   Package stopwords is already up-to-date!\n",
            "[nltk_data] Downloading package punkt to /root/nltk_data...\n",
            "[nltk_data]   Package punkt is already up-to-date!\n",
            "Among the scientific community, the current thinking is that life may have existed on the earth’s ruddy planetary neighbour a long time ago.\n",
            "The recent NASA mission, Mars 2020, that was launched from Cape Canaveral, Florida on July 30, 2020, landed on the Jezero Crater in Mars on February 18, to much celebration.\n",
            "Of special magnificence was the entry, descent and landing of the mission’s Perseverance rover, described as the ‘shortest and most intense part’.\n",
            "Entering the Martian atmosphere at about 20,000 km per hour, the mission had to bring the Perseverance rover to a halt on the surface in just seven minutes.\n",
            "Also, since it takes 11 minutes for a radio signal to reach the earth from Mars, the mission control could not really guide the landing, and the rover had to complete this process by itself.\n",
            "NASA’s exploration of Mars has focused on finding traces and trails of water that may have existed, and relate it to finding evidence of ancient life.\n",
            "Expected to last at least the duration of one Mars year, or about 687 earth days, the science goals this time are to look for signs of ancient life and collect rock and soil samples.\n",
            "Perseverance will take the inquiry made by Curiosity to the next level and search for signs of past life by studying the Jezero Crater.\n",
            "Further, the rover will study the geology here and store samples in a place that can be accessed by a future mission which would return them to the earth.\n",
            "The rover also carries a helicopter named Ingenuity that is specially designed to fly in Mars’s thin atmosphere; its sole purpose would be to demonstrate flight on Mars.\n"
          ],
          "name": "stdout"
        }
      ]
    },
    {
      "cell_type": "markdown",
      "metadata": {
        "id": "00FXpi2ppKUK"
      },
      "source": [
        ""
      ]
    }
  ]
}