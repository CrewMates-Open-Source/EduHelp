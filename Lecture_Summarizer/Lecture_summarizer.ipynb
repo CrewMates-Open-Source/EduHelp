{
  "nbformat": 4,
  "nbformat_minor": 0,
  "metadata": {
    "colab": {
      "name": "Text_summarizer.ipynb",
      "provenance": []
    },
    "kernelspec": {
      "name": "python3",
      "display_name": "Python 3"
    },
    "language_info": {
      "name": "python"
    },
    "widgets": {
      "application/vnd.jupyter.widget-state+json": {
        "506bb59e959c4c0f89b633f7570cabfd": {
          "model_module": "@jupyter-widgets/controls",
          "model_name": "HBoxModel",
          "state": {
            "_view_name": "HBoxView",
            "_dom_classes": [],
            "_model_name": "HBoxModel",
            "_view_module": "@jupyter-widgets/controls",
            "_model_module_version": "1.5.0",
            "_view_count": null,
            "_view_module_version": "1.5.0",
            "box_style": "",
            "layout": "IPY_MODEL_c8506c76b7cc48f3a4e9713217d18422",
            "_model_module": "@jupyter-widgets/controls",
            "children": [
              "IPY_MODEL_f9c3789652f04402a7104ac48e3c6b10",
              "IPY_MODEL_bd10412bc38b4e2fbb4f3a66391c58c2"
            ]
          }
        },
        "c8506c76b7cc48f3a4e9713217d18422": {
          "model_module": "@jupyter-widgets/base",
          "model_name": "LayoutModel",
          "state": {
            "_view_name": "LayoutView",
            "grid_template_rows": null,
            "right": null,
            "justify_content": null,
            "_view_module": "@jupyter-widgets/base",
            "overflow": null,
            "_model_module_version": "1.2.0",
            "_view_count": null,
            "flex_flow": null,
            "width": null,
            "min_width": null,
            "border": null,
            "align_items": null,
            "bottom": null,
            "_model_module": "@jupyter-widgets/base",
            "top": null,
            "grid_column": null,
            "overflow_y": null,
            "overflow_x": null,
            "grid_auto_flow": null,
            "grid_area": null,
            "grid_template_columns": null,
            "flex": null,
            "_model_name": "LayoutModel",
            "justify_items": null,
            "grid_row": null,
            "max_height": null,
            "align_content": null,
            "visibility": null,
            "align_self": null,
            "height": null,
            "min_height": null,
            "padding": null,
            "grid_auto_rows": null,
            "grid_gap": null,
            "max_width": null,
            "order": null,
            "_view_module_version": "1.2.0",
            "grid_template_areas": null,
            "object_position": null,
            "object_fit": null,
            "grid_auto_columns": null,
            "margin": null,
            "display": null,
            "left": null
          }
        },
        "f9c3789652f04402a7104ac48e3c6b10": {
          "model_module": "@jupyter-widgets/controls",
          "model_name": "FloatProgressModel",
          "state": {
            "_view_name": "ProgressView",
            "style": "IPY_MODEL_932deb7fe24f4cffa851df9d0861c148",
            "_dom_classes": [],
            "description": "Downloading: 100%",
            "_model_name": "FloatProgressModel",
            "bar_style": "success",
            "max": 1649,
            "_view_module": "@jupyter-widgets/controls",
            "_model_module_version": "1.5.0",
            "value": 1649,
            "_view_count": null,
            "_view_module_version": "1.5.0",
            "orientation": "horizontal",
            "min": 0,
            "description_tooltip": null,
            "_model_module": "@jupyter-widgets/controls",
            "layout": "IPY_MODEL_d15f934412d7452aa3661d32735e1eae"
          }
        },
        "bd10412bc38b4e2fbb4f3a66391c58c2": {
          "model_module": "@jupyter-widgets/controls",
          "model_name": "HTMLModel",
          "state": {
            "_view_name": "HTMLView",
            "style": "IPY_MODEL_0cd48c7041254f9c9da6427c67d86281",
            "_dom_classes": [],
            "description": "",
            "_model_name": "HTMLModel",
            "placeholder": "​",
            "_view_module": "@jupyter-widgets/controls",
            "_model_module_version": "1.5.0",
            "value": " 1.65k/1.65k [00:00&lt;00:00, 33.9kB/s]",
            "_view_count": null,
            "_view_module_version": "1.5.0",
            "description_tooltip": null,
            "_model_module": "@jupyter-widgets/controls",
            "layout": "IPY_MODEL_fceb82e63258490596485096a60ad115"
          }
        },
        "932deb7fe24f4cffa851df9d0861c148": {
          "model_module": "@jupyter-widgets/controls",
          "model_name": "ProgressStyleModel",
          "state": {
            "_view_name": "StyleView",
            "_model_name": "ProgressStyleModel",
            "description_width": "initial",
            "_view_module": "@jupyter-widgets/base",
            "_model_module_version": "1.5.0",
            "_view_count": null,
            "_view_module_version": "1.2.0",
            "bar_color": null,
            "_model_module": "@jupyter-widgets/controls"
          }
        },
        "d15f934412d7452aa3661d32735e1eae": {
          "model_module": "@jupyter-widgets/base",
          "model_name": "LayoutModel",
          "state": {
            "_view_name": "LayoutView",
            "grid_template_rows": null,
            "right": null,
            "justify_content": null,
            "_view_module": "@jupyter-widgets/base",
            "overflow": null,
            "_model_module_version": "1.2.0",
            "_view_count": null,
            "flex_flow": null,
            "width": null,
            "min_width": null,
            "border": null,
            "align_items": null,
            "bottom": null,
            "_model_module": "@jupyter-widgets/base",
            "top": null,
            "grid_column": null,
            "overflow_y": null,
            "overflow_x": null,
            "grid_auto_flow": null,
            "grid_area": null,
            "grid_template_columns": null,
            "flex": null,
            "_model_name": "LayoutModel",
            "justify_items": null,
            "grid_row": null,
            "max_height": null,
            "align_content": null,
            "visibility": null,
            "align_self": null,
            "height": null,
            "min_height": null,
            "padding": null,
            "grid_auto_rows": null,
            "grid_gap": null,
            "max_width": null,
            "order": null,
            "_view_module_version": "1.2.0",
            "grid_template_areas": null,
            "object_position": null,
            "object_fit": null,
            "grid_auto_columns": null,
            "margin": null,
            "display": null,
            "left": null
          }
        },
        "0cd48c7041254f9c9da6427c67d86281": {
          "model_module": "@jupyter-widgets/controls",
          "model_name": "DescriptionStyleModel",
          "state": {
            "_view_name": "StyleView",
            "_model_name": "DescriptionStyleModel",
            "description_width": "",
            "_view_module": "@jupyter-widgets/base",
            "_model_module_version": "1.5.0",
            "_view_count": null,
            "_view_module_version": "1.2.0",
            "_model_module": "@jupyter-widgets/controls"
          }
        },
        "fceb82e63258490596485096a60ad115": {
          "model_module": "@jupyter-widgets/base",
          "model_name": "LayoutModel",
          "state": {
            "_view_name": "LayoutView",
            "grid_template_rows": null,
            "right": null,
            "justify_content": null,
            "_view_module": "@jupyter-widgets/base",
            "overflow": null,
            "_model_module_version": "1.2.0",
            "_view_count": null,
            "flex_flow": null,
            "width": null,
            "min_width": null,
            "border": null,
            "align_items": null,
            "bottom": null,
            "_model_module": "@jupyter-widgets/base",
            "top": null,
            "grid_column": null,
            "overflow_y": null,
            "overflow_x": null,
            "grid_auto_flow": null,
            "grid_area": null,
            "grid_template_columns": null,
            "flex": null,
            "_model_name": "LayoutModel",
            "justify_items": null,
            "grid_row": null,
            "max_height": null,
            "align_content": null,
            "visibility": null,
            "align_self": null,
            "height": null,
            "min_height": null,
            "padding": null,
            "grid_auto_rows": null,
            "grid_gap": null,
            "max_width": null,
            "order": null,
            "_view_module_version": "1.2.0",
            "grid_template_areas": null,
            "object_position": null,
            "object_fit": null,
            "grid_auto_columns": null,
            "margin": null,
            "display": null,
            "left": null
          }
        },
        "aa8f9183d69744338be5e4e0f734ca64": {
          "model_module": "@jupyter-widgets/controls",
          "model_name": "HBoxModel",
          "state": {
            "_view_name": "HBoxView",
            "_dom_classes": [],
            "_model_name": "HBoxModel",
            "_view_module": "@jupyter-widgets/controls",
            "_model_module_version": "1.5.0",
            "_view_count": null,
            "_view_module_version": "1.5.0",
            "box_style": "",
            "layout": "IPY_MODEL_e3811b56e5054245a518c4c000287f7e",
            "_model_module": "@jupyter-widgets/controls",
            "children": [
              "IPY_MODEL_277ecb240a7a4b909c00e7ae9367ba42",
              "IPY_MODEL_48aec3252896407b977f8fc3e2979871"
            ]
          }
        },
        "e3811b56e5054245a518c4c000287f7e": {
          "model_module": "@jupyter-widgets/base",
          "model_name": "LayoutModel",
          "state": {
            "_view_name": "LayoutView",
            "grid_template_rows": null,
            "right": null,
            "justify_content": null,
            "_view_module": "@jupyter-widgets/base",
            "overflow": null,
            "_model_module_version": "1.2.0",
            "_view_count": null,
            "flex_flow": null,
            "width": null,
            "min_width": null,
            "border": null,
            "align_items": null,
            "bottom": null,
            "_model_module": "@jupyter-widgets/base",
            "top": null,
            "grid_column": null,
            "overflow_y": null,
            "overflow_x": null,
            "grid_auto_flow": null,
            "grid_area": null,
            "grid_template_columns": null,
            "flex": null,
            "_model_name": "LayoutModel",
            "justify_items": null,
            "grid_row": null,
            "max_height": null,
            "align_content": null,
            "visibility": null,
            "align_self": null,
            "height": null,
            "min_height": null,
            "padding": null,
            "grid_auto_rows": null,
            "grid_gap": null,
            "max_width": null,
            "order": null,
            "_view_module_version": "1.2.0",
            "grid_template_areas": null,
            "object_position": null,
            "object_fit": null,
            "grid_auto_columns": null,
            "margin": null,
            "display": null,
            "left": null
          }
        },
        "277ecb240a7a4b909c00e7ae9367ba42": {
          "model_module": "@jupyter-widgets/controls",
          "model_name": "FloatProgressModel",
          "state": {
            "_view_name": "ProgressView",
            "style": "IPY_MODEL_548d25267c5147bc8d7bf34012508a82",
            "_dom_classes": [],
            "description": "Downloading: 100%",
            "_model_name": "FloatProgressModel",
            "bar_style": "success",
            "max": 1222317369,
            "_view_module": "@jupyter-widgets/controls",
            "_model_module_version": "1.5.0",
            "value": 1222317369,
            "_view_count": null,
            "_view_module_version": "1.5.0",
            "orientation": "horizontal",
            "min": 0,
            "description_tooltip": null,
            "_model_module": "@jupyter-widgets/controls",
            "layout": "IPY_MODEL_55dff03bd4ad4dc99d1a3b5e6abf9978"
          }
        },
        "48aec3252896407b977f8fc3e2979871": {
          "model_module": "@jupyter-widgets/controls",
          "model_name": "HTMLModel",
          "state": {
            "_view_name": "HTMLView",
            "style": "IPY_MODEL_3d1845732bd944159b9d9aca85335803",
            "_dom_classes": [],
            "description": "",
            "_model_name": "HTMLModel",
            "placeholder": "​",
            "_view_module": "@jupyter-widgets/controls",
            "_model_module_version": "1.5.0",
            "value": " 1.22G/1.22G [00:35&lt;00:00, 34.5MB/s]",
            "_view_count": null,
            "_view_module_version": "1.5.0",
            "description_tooltip": null,
            "_model_module": "@jupyter-widgets/controls",
            "layout": "IPY_MODEL_fc9183cf591c4d31a569e0cf089a8ac0"
          }
        },
        "548d25267c5147bc8d7bf34012508a82": {
          "model_module": "@jupyter-widgets/controls",
          "model_name": "ProgressStyleModel",
          "state": {
            "_view_name": "StyleView",
            "_model_name": "ProgressStyleModel",
            "description_width": "initial",
            "_view_module": "@jupyter-widgets/base",
            "_model_module_version": "1.5.0",
            "_view_count": null,
            "_view_module_version": "1.2.0",
            "bar_color": null,
            "_model_module": "@jupyter-widgets/controls"
          }
        },
        "55dff03bd4ad4dc99d1a3b5e6abf9978": {
          "model_module": "@jupyter-widgets/base",
          "model_name": "LayoutModel",
          "state": {
            "_view_name": "LayoutView",
            "grid_template_rows": null,
            "right": null,
            "justify_content": null,
            "_view_module": "@jupyter-widgets/base",
            "overflow": null,
            "_model_module_version": "1.2.0",
            "_view_count": null,
            "flex_flow": null,
            "width": null,
            "min_width": null,
            "border": null,
            "align_items": null,
            "bottom": null,
            "_model_module": "@jupyter-widgets/base",
            "top": null,
            "grid_column": null,
            "overflow_y": null,
            "overflow_x": null,
            "grid_auto_flow": null,
            "grid_area": null,
            "grid_template_columns": null,
            "flex": null,
            "_model_name": "LayoutModel",
            "justify_items": null,
            "grid_row": null,
            "max_height": null,
            "align_content": null,
            "visibility": null,
            "align_self": null,
            "height": null,
            "min_height": null,
            "padding": null,
            "grid_auto_rows": null,
            "grid_gap": null,
            "max_width": null,
            "order": null,
            "_view_module_version": "1.2.0",
            "grid_template_areas": null,
            "object_position": null,
            "object_fit": null,
            "grid_auto_columns": null,
            "margin": null,
            "display": null,
            "left": null
          }
        },
        "3d1845732bd944159b9d9aca85335803": {
          "model_module": "@jupyter-widgets/controls",
          "model_name": "DescriptionStyleModel",
          "state": {
            "_view_name": "StyleView",
            "_model_name": "DescriptionStyleModel",
            "description_width": "",
            "_view_module": "@jupyter-widgets/base",
            "_model_module_version": "1.5.0",
            "_view_count": null,
            "_view_module_version": "1.2.0",
            "_model_module": "@jupyter-widgets/controls"
          }
        },
        "fc9183cf591c4d31a569e0cf089a8ac0": {
          "model_module": "@jupyter-widgets/base",
          "model_name": "LayoutModel",
          "state": {
            "_view_name": "LayoutView",
            "grid_template_rows": null,
            "right": null,
            "justify_content": null,
            "_view_module": "@jupyter-widgets/base",
            "overflow": null,
            "_model_module_version": "1.2.0",
            "_view_count": null,
            "flex_flow": null,
            "width": null,
            "min_width": null,
            "border": null,
            "align_items": null,
            "bottom": null,
            "_model_module": "@jupyter-widgets/base",
            "top": null,
            "grid_column": null,
            "overflow_y": null,
            "overflow_x": null,
            "grid_auto_flow": null,
            "grid_area": null,
            "grid_template_columns": null,
            "flex": null,
            "_model_name": "LayoutModel",
            "justify_items": null,
            "grid_row": null,
            "max_height": null,
            "align_content": null,
            "visibility": null,
            "align_self": null,
            "height": null,
            "min_height": null,
            "padding": null,
            "grid_auto_rows": null,
            "grid_gap": null,
            "max_width": null,
            "order": null,
            "_view_module_version": "1.2.0",
            "grid_template_areas": null,
            "object_position": null,
            "object_fit": null,
            "grid_auto_columns": null,
            "margin": null,
            "display": null,
            "left": null
          }
        },
        "2bf11a22c71d4d80afff8f9eaf749bfc": {
          "model_module": "@jupyter-widgets/controls",
          "model_name": "HBoxModel",
          "state": {
            "_view_name": "HBoxView",
            "_dom_classes": [],
            "_model_name": "HBoxModel",
            "_view_module": "@jupyter-widgets/controls",
            "_model_module_version": "1.5.0",
            "_view_count": null,
            "_view_module_version": "1.5.0",
            "box_style": "",
            "layout": "IPY_MODEL_14b20de896804a96958ae2583cb81561",
            "_model_module": "@jupyter-widgets/controls",
            "children": [
              "IPY_MODEL_fd26cacf0647495e8d2b7d74353d8b4f",
              "IPY_MODEL_a464c75ef89748c08dd967dbff3a9add"
            ]
          }
        },
        "14b20de896804a96958ae2583cb81561": {
          "model_module": "@jupyter-widgets/base",
          "model_name": "LayoutModel",
          "state": {
            "_view_name": "LayoutView",
            "grid_template_rows": null,
            "right": null,
            "justify_content": null,
            "_view_module": "@jupyter-widgets/base",
            "overflow": null,
            "_model_module_version": "1.2.0",
            "_view_count": null,
            "flex_flow": null,
            "width": null,
            "min_width": null,
            "border": null,
            "align_items": null,
            "bottom": null,
            "_model_module": "@jupyter-widgets/base",
            "top": null,
            "grid_column": null,
            "overflow_y": null,
            "overflow_x": null,
            "grid_auto_flow": null,
            "grid_area": null,
            "grid_template_columns": null,
            "flex": null,
            "_model_name": "LayoutModel",
            "justify_items": null,
            "grid_row": null,
            "max_height": null,
            "align_content": null,
            "visibility": null,
            "align_self": null,
            "height": null,
            "min_height": null,
            "padding": null,
            "grid_auto_rows": null,
            "grid_gap": null,
            "max_width": null,
            "order": null,
            "_view_module_version": "1.2.0",
            "grid_template_areas": null,
            "object_position": null,
            "object_fit": null,
            "grid_auto_columns": null,
            "margin": null,
            "display": null,
            "left": null
          }
        },
        "fd26cacf0647495e8d2b7d74353d8b4f": {
          "model_module": "@jupyter-widgets/controls",
          "model_name": "FloatProgressModel",
          "state": {
            "_view_name": "ProgressView",
            "style": "IPY_MODEL_739bd67ee2cf457aba4623800a5d7210",
            "_dom_classes": [],
            "description": "Downloading: 100%",
            "_model_name": "FloatProgressModel",
            "bar_style": "success",
            "max": 898822,
            "_view_module": "@jupyter-widgets/controls",
            "_model_module_version": "1.5.0",
            "value": 898822,
            "_view_count": null,
            "_view_module_version": "1.5.0",
            "orientation": "horizontal",
            "min": 0,
            "description_tooltip": null,
            "_model_module": "@jupyter-widgets/controls",
            "layout": "IPY_MODEL_159b59d8f98344bf911ceea7c5c357ef"
          }
        },
        "a464c75ef89748c08dd967dbff3a9add": {
          "model_module": "@jupyter-widgets/controls",
          "model_name": "HTMLModel",
          "state": {
            "_view_name": "HTMLView",
            "style": "IPY_MODEL_63d918a91942427b8c733920fcc9e0ac",
            "_dom_classes": [],
            "description": "",
            "_model_name": "HTMLModel",
            "placeholder": "​",
            "_view_module": "@jupyter-widgets/controls",
            "_model_module_version": "1.5.0",
            "value": " 899k/899k [00:00&lt;00:00, 2.91MB/s]",
            "_view_count": null,
            "_view_module_version": "1.5.0",
            "description_tooltip": null,
            "_model_module": "@jupyter-widgets/controls",
            "layout": "IPY_MODEL_3502e4cbcfaa48ecb885dac6e441fc2e"
          }
        },
        "739bd67ee2cf457aba4623800a5d7210": {
          "model_module": "@jupyter-widgets/controls",
          "model_name": "ProgressStyleModel",
          "state": {
            "_view_name": "StyleView",
            "_model_name": "ProgressStyleModel",
            "description_width": "initial",
            "_view_module": "@jupyter-widgets/base",
            "_model_module_version": "1.5.0",
            "_view_count": null,
            "_view_module_version": "1.2.0",
            "bar_color": null,
            "_model_module": "@jupyter-widgets/controls"
          }
        },
        "159b59d8f98344bf911ceea7c5c357ef": {
          "model_module": "@jupyter-widgets/base",
          "model_name": "LayoutModel",
          "state": {
            "_view_name": "LayoutView",
            "grid_template_rows": null,
            "right": null,
            "justify_content": null,
            "_view_module": "@jupyter-widgets/base",
            "overflow": null,
            "_model_module_version": "1.2.0",
            "_view_count": null,
            "flex_flow": null,
            "width": null,
            "min_width": null,
            "border": null,
            "align_items": null,
            "bottom": null,
            "_model_module": "@jupyter-widgets/base",
            "top": null,
            "grid_column": null,
            "overflow_y": null,
            "overflow_x": null,
            "grid_auto_flow": null,
            "grid_area": null,
            "grid_template_columns": null,
            "flex": null,
            "_model_name": "LayoutModel",
            "justify_items": null,
            "grid_row": null,
            "max_height": null,
            "align_content": null,
            "visibility": null,
            "align_self": null,
            "height": null,
            "min_height": null,
            "padding": null,
            "grid_auto_rows": null,
            "grid_gap": null,
            "max_width": null,
            "order": null,
            "_view_module_version": "1.2.0",
            "grid_template_areas": null,
            "object_position": null,
            "object_fit": null,
            "grid_auto_columns": null,
            "margin": null,
            "display": null,
            "left": null
          }
        },
        "63d918a91942427b8c733920fcc9e0ac": {
          "model_module": "@jupyter-widgets/controls",
          "model_name": "DescriptionStyleModel",
          "state": {
            "_view_name": "StyleView",
            "_model_name": "DescriptionStyleModel",
            "description_width": "",
            "_view_module": "@jupyter-widgets/base",
            "_model_module_version": "1.5.0",
            "_view_count": null,
            "_view_module_version": "1.2.0",
            "_model_module": "@jupyter-widgets/controls"
          }
        },
        "3502e4cbcfaa48ecb885dac6e441fc2e": {
          "model_module": "@jupyter-widgets/base",
          "model_name": "LayoutModel",
          "state": {
            "_view_name": "LayoutView",
            "grid_template_rows": null,
            "right": null,
            "justify_content": null,
            "_view_module": "@jupyter-widgets/base",
            "overflow": null,
            "_model_module_version": "1.2.0",
            "_view_count": null,
            "flex_flow": null,
            "width": null,
            "min_width": null,
            "border": null,
            "align_items": null,
            "bottom": null,
            "_model_module": "@jupyter-widgets/base",
            "top": null,
            "grid_column": null,
            "overflow_y": null,
            "overflow_x": null,
            "grid_auto_flow": null,
            "grid_area": null,
            "grid_template_columns": null,
            "flex": null,
            "_model_name": "LayoutModel",
            "justify_items": null,
            "grid_row": null,
            "max_height": null,
            "align_content": null,
            "visibility": null,
            "align_self": null,
            "height": null,
            "min_height": null,
            "padding": null,
            "grid_auto_rows": null,
            "grid_gap": null,
            "max_width": null,
            "order": null,
            "_view_module_version": "1.2.0",
            "grid_template_areas": null,
            "object_position": null,
            "object_fit": null,
            "grid_auto_columns": null,
            "margin": null,
            "display": null,
            "left": null
          }
        },
        "afb71309b1fc41cc983706250160cc88": {
          "model_module": "@jupyter-widgets/controls",
          "model_name": "HBoxModel",
          "state": {
            "_view_name": "HBoxView",
            "_dom_classes": [],
            "_model_name": "HBoxModel",
            "_view_module": "@jupyter-widgets/controls",
            "_model_module_version": "1.5.0",
            "_view_count": null,
            "_view_module_version": "1.5.0",
            "box_style": "",
            "layout": "IPY_MODEL_57b1f0e6cb8e4e9d9e97c5c47a3112c5",
            "_model_module": "@jupyter-widgets/controls",
            "children": [
              "IPY_MODEL_b37db859cc184b099878148bde968e16",
              "IPY_MODEL_636ea64c8c66430da73fb3ff675fac14"
            ]
          }
        },
        "57b1f0e6cb8e4e9d9e97c5c47a3112c5": {
          "model_module": "@jupyter-widgets/base",
          "model_name": "LayoutModel",
          "state": {
            "_view_name": "LayoutView",
            "grid_template_rows": null,
            "right": null,
            "justify_content": null,
            "_view_module": "@jupyter-widgets/base",
            "overflow": null,
            "_model_module_version": "1.2.0",
            "_view_count": null,
            "flex_flow": null,
            "width": null,
            "min_width": null,
            "border": null,
            "align_items": null,
            "bottom": null,
            "_model_module": "@jupyter-widgets/base",
            "top": null,
            "grid_column": null,
            "overflow_y": null,
            "overflow_x": null,
            "grid_auto_flow": null,
            "grid_area": null,
            "grid_template_columns": null,
            "flex": null,
            "_model_name": "LayoutModel",
            "justify_items": null,
            "grid_row": null,
            "max_height": null,
            "align_content": null,
            "visibility": null,
            "align_self": null,
            "height": null,
            "min_height": null,
            "padding": null,
            "grid_auto_rows": null,
            "grid_gap": null,
            "max_width": null,
            "order": null,
            "_view_module_version": "1.2.0",
            "grid_template_areas": null,
            "object_position": null,
            "object_fit": null,
            "grid_auto_columns": null,
            "margin": null,
            "display": null,
            "left": null
          }
        },
        "b37db859cc184b099878148bde968e16": {
          "model_module": "@jupyter-widgets/controls",
          "model_name": "FloatProgressModel",
          "state": {
            "_view_name": "ProgressView",
            "style": "IPY_MODEL_84ba3c05040d401e8953a7ac28af05c5",
            "_dom_classes": [],
            "description": "Downloading: 100%",
            "_model_name": "FloatProgressModel",
            "bar_style": "success",
            "max": 456318,
            "_view_module": "@jupyter-widgets/controls",
            "_model_module_version": "1.5.0",
            "value": 456318,
            "_view_count": null,
            "_view_module_version": "1.5.0",
            "orientation": "horizontal",
            "min": 0,
            "description_tooltip": null,
            "_model_module": "@jupyter-widgets/controls",
            "layout": "IPY_MODEL_9892f367c9ba4229bf49f77967e24cc4"
          }
        },
        "636ea64c8c66430da73fb3ff675fac14": {
          "model_module": "@jupyter-widgets/controls",
          "model_name": "HTMLModel",
          "state": {
            "_view_name": "HTMLView",
            "style": "IPY_MODEL_ca0525df4ce94312ac26e3ab22c5480a",
            "_dom_classes": [],
            "description": "",
            "_model_name": "HTMLModel",
            "placeholder": "​",
            "_view_module": "@jupyter-widgets/controls",
            "_model_module_version": "1.5.0",
            "value": " 456k/456k [00:00&lt;00:00, 1.15MB/s]",
            "_view_count": null,
            "_view_module_version": "1.5.0",
            "description_tooltip": null,
            "_model_module": "@jupyter-widgets/controls",
            "layout": "IPY_MODEL_dadd31ea0d5a46d1ac56226217304bc3"
          }
        },
        "84ba3c05040d401e8953a7ac28af05c5": {
          "model_module": "@jupyter-widgets/controls",
          "model_name": "ProgressStyleModel",
          "state": {
            "_view_name": "StyleView",
            "_model_name": "ProgressStyleModel",
            "description_width": "initial",
            "_view_module": "@jupyter-widgets/base",
            "_model_module_version": "1.5.0",
            "_view_count": null,
            "_view_module_version": "1.2.0",
            "bar_color": null,
            "_model_module": "@jupyter-widgets/controls"
          }
        },
        "9892f367c9ba4229bf49f77967e24cc4": {
          "model_module": "@jupyter-widgets/base",
          "model_name": "LayoutModel",
          "state": {
            "_view_name": "LayoutView",
            "grid_template_rows": null,
            "right": null,
            "justify_content": null,
            "_view_module": "@jupyter-widgets/base",
            "overflow": null,
            "_model_module_version": "1.2.0",
            "_view_count": null,
            "flex_flow": null,
            "width": null,
            "min_width": null,
            "border": null,
            "align_items": null,
            "bottom": null,
            "_model_module": "@jupyter-widgets/base",
            "top": null,
            "grid_column": null,
            "overflow_y": null,
            "overflow_x": null,
            "grid_auto_flow": null,
            "grid_area": null,
            "grid_template_columns": null,
            "flex": null,
            "_model_name": "LayoutModel",
            "justify_items": null,
            "grid_row": null,
            "max_height": null,
            "align_content": null,
            "visibility": null,
            "align_self": null,
            "height": null,
            "min_height": null,
            "padding": null,
            "grid_auto_rows": null,
            "grid_gap": null,
            "max_width": null,
            "order": null,
            "_view_module_version": "1.2.0",
            "grid_template_areas": null,
            "object_position": null,
            "object_fit": null,
            "grid_auto_columns": null,
            "margin": null,
            "display": null,
            "left": null
          }
        },
        "ca0525df4ce94312ac26e3ab22c5480a": {
          "model_module": "@jupyter-widgets/controls",
          "model_name": "DescriptionStyleModel",
          "state": {
            "_view_name": "StyleView",
            "_model_name": "DescriptionStyleModel",
            "description_width": "",
            "_view_module": "@jupyter-widgets/base",
            "_model_module_version": "1.5.0",
            "_view_count": null,
            "_view_module_version": "1.2.0",
            "_model_module": "@jupyter-widgets/controls"
          }
        },
        "dadd31ea0d5a46d1ac56226217304bc3": {
          "model_module": "@jupyter-widgets/base",
          "model_name": "LayoutModel",
          "state": {
            "_view_name": "LayoutView",
            "grid_template_rows": null,
            "right": null,
            "justify_content": null,
            "_view_module": "@jupyter-widgets/base",
            "overflow": null,
            "_model_module_version": "1.2.0",
            "_view_count": null,
            "flex_flow": null,
            "width": null,
            "min_width": null,
            "border": null,
            "align_items": null,
            "bottom": null,
            "_model_module": "@jupyter-widgets/base",
            "top": null,
            "grid_column": null,
            "overflow_y": null,
            "overflow_x": null,
            "grid_auto_flow": null,
            "grid_area": null,
            "grid_template_columns": null,
            "flex": null,
            "_model_name": "LayoutModel",
            "justify_items": null,
            "grid_row": null,
            "max_height": null,
            "align_content": null,
            "visibility": null,
            "align_self": null,
            "height": null,
            "min_height": null,
            "padding": null,
            "grid_auto_rows": null,
            "grid_gap": null,
            "max_width": null,
            "order": null,
            "_view_module_version": "1.2.0",
            "grid_template_areas": null,
            "object_position": null,
            "object_fit": null,
            "grid_auto_columns": null,
            "margin": null,
            "display": null,
            "left": null
          }
        },
        "0c784e1d682f4671a7a77acd077feb21": {
          "model_module": "@jupyter-widgets/controls",
          "model_name": "HBoxModel",
          "state": {
            "_view_name": "HBoxView",
            "_dom_classes": [],
            "_model_name": "HBoxModel",
            "_view_module": "@jupyter-widgets/controls",
            "_model_module_version": "1.5.0",
            "_view_count": null,
            "_view_module_version": "1.5.0",
            "box_style": "",
            "layout": "IPY_MODEL_5e1f6329d5064366822b46ad52c14b0f",
            "_model_module": "@jupyter-widgets/controls",
            "children": [
              "IPY_MODEL_a902a6427fb4441a8fd57e8ebef01304",
              "IPY_MODEL_fb46201e8a5641f792ec5fe08d9c77be"
            ]
          }
        },
        "5e1f6329d5064366822b46ad52c14b0f": {
          "model_module": "@jupyter-widgets/base",
          "model_name": "LayoutModel",
          "state": {
            "_view_name": "LayoutView",
            "grid_template_rows": null,
            "right": null,
            "justify_content": null,
            "_view_module": "@jupyter-widgets/base",
            "overflow": null,
            "_model_module_version": "1.2.0",
            "_view_count": null,
            "flex_flow": null,
            "width": null,
            "min_width": null,
            "border": null,
            "align_items": null,
            "bottom": null,
            "_model_module": "@jupyter-widgets/base",
            "top": null,
            "grid_column": null,
            "overflow_y": null,
            "overflow_x": null,
            "grid_auto_flow": null,
            "grid_area": null,
            "grid_template_columns": null,
            "flex": null,
            "_model_name": "LayoutModel",
            "justify_items": null,
            "grid_row": null,
            "max_height": null,
            "align_content": null,
            "visibility": null,
            "align_self": null,
            "height": null,
            "min_height": null,
            "padding": null,
            "grid_auto_rows": null,
            "grid_gap": null,
            "max_width": null,
            "order": null,
            "_view_module_version": "1.2.0",
            "grid_template_areas": null,
            "object_position": null,
            "object_fit": null,
            "grid_auto_columns": null,
            "margin": null,
            "display": null,
            "left": null
          }
        },
        "a902a6427fb4441a8fd57e8ebef01304": {
          "model_module": "@jupyter-widgets/controls",
          "model_name": "FloatProgressModel",
          "state": {
            "_view_name": "ProgressView",
            "style": "IPY_MODEL_570973e2d76a460ba1140dc5555ad592",
            "_dom_classes": [],
            "description": "Downloading: 100%",
            "_model_name": "FloatProgressModel",
            "bar_style": "success",
            "max": 26,
            "_view_module": "@jupyter-widgets/controls",
            "_model_module_version": "1.5.0",
            "value": 26,
            "_view_count": null,
            "_view_module_version": "1.5.0",
            "orientation": "horizontal",
            "min": 0,
            "description_tooltip": null,
            "_model_module": "@jupyter-widgets/controls",
            "layout": "IPY_MODEL_ea5077f05e8d4ae49268c78713be8a3d"
          }
        },
        "fb46201e8a5641f792ec5fe08d9c77be": {
          "model_module": "@jupyter-widgets/controls",
          "model_name": "HTMLModel",
          "state": {
            "_view_name": "HTMLView",
            "style": "IPY_MODEL_93a56ac462ed4ea0bf7f3bbac89389b5",
            "_dom_classes": [],
            "description": "",
            "_model_name": "HTMLModel",
            "placeholder": "​",
            "_view_module": "@jupyter-widgets/controls",
            "_model_module_version": "1.5.0",
            "value": " 26.0/26.0 [00:00&lt;00:00, 210B/s]",
            "_view_count": null,
            "_view_module_version": "1.5.0",
            "description_tooltip": null,
            "_model_module": "@jupyter-widgets/controls",
            "layout": "IPY_MODEL_facf59ba848a4b9c9ea7dccc3f6b9b48"
          }
        },
        "570973e2d76a460ba1140dc5555ad592": {
          "model_module": "@jupyter-widgets/controls",
          "model_name": "ProgressStyleModel",
          "state": {
            "_view_name": "StyleView",
            "_model_name": "ProgressStyleModel",
            "description_width": "initial",
            "_view_module": "@jupyter-widgets/base",
            "_model_module_version": "1.5.0",
            "_view_count": null,
            "_view_module_version": "1.2.0",
            "bar_color": null,
            "_model_module": "@jupyter-widgets/controls"
          }
        },
        "ea5077f05e8d4ae49268c78713be8a3d": {
          "model_module": "@jupyter-widgets/base",
          "model_name": "LayoutModel",
          "state": {
            "_view_name": "LayoutView",
            "grid_template_rows": null,
            "right": null,
            "justify_content": null,
            "_view_module": "@jupyter-widgets/base",
            "overflow": null,
            "_model_module_version": "1.2.0",
            "_view_count": null,
            "flex_flow": null,
            "width": null,
            "min_width": null,
            "border": null,
            "align_items": null,
            "bottom": null,
            "_model_module": "@jupyter-widgets/base",
            "top": null,
            "grid_column": null,
            "overflow_y": null,
            "overflow_x": null,
            "grid_auto_flow": null,
            "grid_area": null,
            "grid_template_columns": null,
            "flex": null,
            "_model_name": "LayoutModel",
            "justify_items": null,
            "grid_row": null,
            "max_height": null,
            "align_content": null,
            "visibility": null,
            "align_self": null,
            "height": null,
            "min_height": null,
            "padding": null,
            "grid_auto_rows": null,
            "grid_gap": null,
            "max_width": null,
            "order": null,
            "_view_module_version": "1.2.0",
            "grid_template_areas": null,
            "object_position": null,
            "object_fit": null,
            "grid_auto_columns": null,
            "margin": null,
            "display": null,
            "left": null
          }
        },
        "93a56ac462ed4ea0bf7f3bbac89389b5": {
          "model_module": "@jupyter-widgets/controls",
          "model_name": "DescriptionStyleModel",
          "state": {
            "_view_name": "StyleView",
            "_model_name": "DescriptionStyleModel",
            "description_width": "",
            "_view_module": "@jupyter-widgets/base",
            "_model_module_version": "1.5.0",
            "_view_count": null,
            "_view_module_version": "1.2.0",
            "_model_module": "@jupyter-widgets/controls"
          }
        },
        "facf59ba848a4b9c9ea7dccc3f6b9b48": {
          "model_module": "@jupyter-widgets/base",
          "model_name": "LayoutModel",
          "state": {
            "_view_name": "LayoutView",
            "grid_template_rows": null,
            "right": null,
            "justify_content": null,
            "_view_module": "@jupyter-widgets/base",
            "overflow": null,
            "_model_module_version": "1.2.0",
            "_view_count": null,
            "flex_flow": null,
            "width": null,
            "min_width": null,
            "border": null,
            "align_items": null,
            "bottom": null,
            "_model_module": "@jupyter-widgets/base",
            "top": null,
            "grid_column": null,
            "overflow_y": null,
            "overflow_x": null,
            "grid_auto_flow": null,
            "grid_area": null,
            "grid_template_columns": null,
            "flex": null,
            "_model_name": "LayoutModel",
            "justify_items": null,
            "grid_row": null,
            "max_height": null,
            "align_content": null,
            "visibility": null,
            "align_self": null,
            "height": null,
            "min_height": null,
            "padding": null,
            "grid_auto_rows": null,
            "grid_gap": null,
            "max_width": null,
            "order": null,
            "_view_module_version": "1.2.0",
            "grid_template_areas": null,
            "object_position": null,
            "object_fit": null,
            "grid_auto_columns": null,
            "margin": null,
            "display": null,
            "left": null
          }
        }
      }
    }
  },
  "cells": [
    {
      "cell_type": "markdown",
      "metadata": {
        "id": "NLqHzOWg4Rof"
      },
      "source": [
        "# Install Transformers"
      ]
    },
    {
      "cell_type": "code",
      "metadata": {
        "colab": {
          "base_uri": "https://localhost:8080/"
        },
        "id": "ayMqkcyq298S",
        "outputId": "a1989944-5851-44bb-867b-9a520ec3348d"
      },
      "source": [
        "!pip install transformers"
      ],
      "execution_count": 1,
      "outputs": [
        {
          "output_type": "stream",
          "text": [
            "Collecting transformers\n",
            "\u001b[?25l  Downloading https://files.pythonhosted.org/packages/d5/43/cfe4ee779bbd6a678ac6a97c5a5cdeb03c35f9eaebbb9720b036680f9a2d/transformers-4.6.1-py3-none-any.whl (2.2MB)\n",
            "\r\u001b[K     |▏                               | 10kB 12.8MB/s eta 0:00:01\r\u001b[K     |▎                               | 20kB 17.5MB/s eta 0:00:01\r\u001b[K     |▍                               | 30kB 20.6MB/s eta 0:00:01\r\u001b[K     |▋                               | 40kB 23.6MB/s eta 0:00:01\r\u001b[K     |▊                               | 51kB 25.3MB/s eta 0:00:01\r\u001b[K     |▉                               | 61kB 26.5MB/s eta 0:00:01\r\u001b[K     |█                               | 71kB 27.2MB/s eta 0:00:01\r\u001b[K     |█▏                              | 81kB 27.9MB/s eta 0:00:01\r\u001b[K     |█▎                              | 92kB 29.2MB/s eta 0:00:01\r\u001b[K     |█▌                              | 102kB 30.3MB/s eta 0:00:01\r\u001b[K     |█▋                              | 112kB 30.3MB/s eta 0:00:01\r\u001b[K     |█▊                              | 122kB 30.3MB/s eta 0:00:01\r\u001b[K     |██                              | 133kB 30.3MB/s eta 0:00:01\r\u001b[K     |██                              | 143kB 30.3MB/s eta 0:00:01\r\u001b[K     |██▏                             | 153kB 30.3MB/s eta 0:00:01\r\u001b[K     |██▎                             | 163kB 30.3MB/s eta 0:00:01\r\u001b[K     |██▌                             | 174kB 30.3MB/s eta 0:00:01\r\u001b[K     |██▋                             | 184kB 30.3MB/s eta 0:00:01\r\u001b[K     |██▊                             | 194kB 30.3MB/s eta 0:00:01\r\u001b[K     |███                             | 204kB 30.3MB/s eta 0:00:01\r\u001b[K     |███                             | 215kB 30.3MB/s eta 0:00:01\r\u001b[K     |███▏                            | 225kB 30.3MB/s eta 0:00:01\r\u001b[K     |███▍                            | 235kB 30.3MB/s eta 0:00:01\r\u001b[K     |███▌                            | 245kB 30.3MB/s eta 0:00:01\r\u001b[K     |███▋                            | 256kB 30.3MB/s eta 0:00:01\r\u001b[K     |███▉                            | 266kB 30.3MB/s eta 0:00:01\r\u001b[K     |████                            | 276kB 30.3MB/s eta 0:00:01\r\u001b[K     |████                            | 286kB 30.3MB/s eta 0:00:01\r\u001b[K     |████▎                           | 296kB 30.3MB/s eta 0:00:01\r\u001b[K     |████▍                           | 307kB 30.3MB/s eta 0:00:01\r\u001b[K     |████▌                           | 317kB 30.3MB/s eta 0:00:01\r\u001b[K     |████▋                           | 327kB 30.3MB/s eta 0:00:01\r\u001b[K     |████▉                           | 337kB 30.3MB/s eta 0:00:01\r\u001b[K     |█████                           | 348kB 30.3MB/s eta 0:00:01\r\u001b[K     |█████                           | 358kB 30.3MB/s eta 0:00:01\r\u001b[K     |█████▎                          | 368kB 30.3MB/s eta 0:00:01\r\u001b[K     |█████▍                          | 378kB 30.3MB/s eta 0:00:01\r\u001b[K     |█████▌                          | 389kB 30.3MB/s eta 0:00:01\r\u001b[K     |█████▊                          | 399kB 30.3MB/s eta 0:00:01\r\u001b[K     |█████▉                          | 409kB 30.3MB/s eta 0:00:01\r\u001b[K     |██████                          | 419kB 30.3MB/s eta 0:00:01\r\u001b[K     |██████▏                         | 430kB 30.3MB/s eta 0:00:01\r\u001b[K     |██████▎                         | 440kB 30.3MB/s eta 0:00:01\r\u001b[K     |██████▍                         | 450kB 30.3MB/s eta 0:00:01\r\u001b[K     |██████▌                         | 460kB 30.3MB/s eta 0:00:01\r\u001b[K     |██████▊                         | 471kB 30.3MB/s eta 0:00:01\r\u001b[K     |██████▉                         | 481kB 30.3MB/s eta 0:00:01\r\u001b[K     |███████                         | 491kB 30.3MB/s eta 0:00:01\r\u001b[K     |███████▏                        | 501kB 30.3MB/s eta 0:00:01\r\u001b[K     |███████▎                        | 512kB 30.3MB/s eta 0:00:01\r\u001b[K     |███████▍                        | 522kB 30.3MB/s eta 0:00:01\r\u001b[K     |███████▋                        | 532kB 30.3MB/s eta 0:00:01\r\u001b[K     |███████▊                        | 542kB 30.3MB/s eta 0:00:01\r\u001b[K     |███████▉                        | 552kB 30.3MB/s eta 0:00:01\r\u001b[K     |████████                        | 563kB 30.3MB/s eta 0:00:01\r\u001b[K     |████████▏                       | 573kB 30.3MB/s eta 0:00:01\r\u001b[K     |████████▎                       | 583kB 30.3MB/s eta 0:00:01\r\u001b[K     |████████▌                       | 593kB 30.3MB/s eta 0:00:01\r\u001b[K     |████████▋                       | 604kB 30.3MB/s eta 0:00:01\r\u001b[K     |████████▊                       | 614kB 30.3MB/s eta 0:00:01\r\u001b[K     |████████▉                       | 624kB 30.3MB/s eta 0:00:01\r\u001b[K     |█████████                       | 634kB 30.3MB/s eta 0:00:01\r\u001b[K     |█████████▏                      | 645kB 30.3MB/s eta 0:00:01\r\u001b[K     |█████████▎                      | 655kB 30.3MB/s eta 0:00:01\r\u001b[K     |█████████▌                      | 665kB 30.3MB/s eta 0:00:01\r\u001b[K     |█████████▋                      | 675kB 30.3MB/s eta 0:00:01\r\u001b[K     |█████████▊                      | 686kB 30.3MB/s eta 0:00:01\r\u001b[K     |██████████                      | 696kB 30.3MB/s eta 0:00:01\r\u001b[K     |██████████                      | 706kB 30.3MB/s eta 0:00:01\r\u001b[K     |██████████▏                     | 716kB 30.3MB/s eta 0:00:01\r\u001b[K     |██████████▍                     | 727kB 30.3MB/s eta 0:00:01\r\u001b[K     |██████████▌                     | 737kB 30.3MB/s eta 0:00:01\r\u001b[K     |██████████▋                     | 747kB 30.3MB/s eta 0:00:01\r\u001b[K     |██████████▉                     | 757kB 30.3MB/s eta 0:00:01\r\u001b[K     |███████████                     | 768kB 30.3MB/s eta 0:00:01\r\u001b[K     |███████████                     | 778kB 30.3MB/s eta 0:00:01\r\u001b[K     |███████████▏                    | 788kB 30.3MB/s eta 0:00:01\r\u001b[K     |███████████▍                    | 798kB 30.3MB/s eta 0:00:01\r\u001b[K     |███████████▌                    | 808kB 30.3MB/s eta 0:00:01\r\u001b[K     |███████████▋                    | 819kB 30.3MB/s eta 0:00:01\r\u001b[K     |███████████▉                    | 829kB 30.3MB/s eta 0:00:01\r\u001b[K     |████████████                    | 839kB 30.3MB/s eta 0:00:01\r\u001b[K     |████████████                    | 849kB 30.3MB/s eta 0:00:01\r\u001b[K     |████████████▎                   | 860kB 30.3MB/s eta 0:00:01\r\u001b[K     |████████████▍                   | 870kB 30.3MB/s eta 0:00:01\r\u001b[K     |████████████▌                   | 880kB 30.3MB/s eta 0:00:01\r\u001b[K     |████████████▊                   | 890kB 30.3MB/s eta 0:00:01\r\u001b[K     |████████████▉                   | 901kB 30.3MB/s eta 0:00:01\r\u001b[K     |█████████████                   | 911kB 30.3MB/s eta 0:00:01\r\u001b[K     |█████████████                   | 921kB 30.3MB/s eta 0:00:01\r\u001b[K     |█████████████▎                  | 931kB 30.3MB/s eta 0:00:01\r\u001b[K     |█████████████▍                  | 942kB 30.3MB/s eta 0:00:01\r\u001b[K     |█████████████▌                  | 952kB 30.3MB/s eta 0:00:01\r\u001b[K     |█████████████▊                  | 962kB 30.3MB/s eta 0:00:01\r\u001b[K     |█████████████▉                  | 972kB 30.3MB/s eta 0:00:01\r\u001b[K     |██████████████                  | 983kB 30.3MB/s eta 0:00:01\r\u001b[K     |██████████████▏                 | 993kB 30.3MB/s eta 0:00:01\r\u001b[K     |██████████████▎                 | 1.0MB 30.3MB/s eta 0:00:01\r\u001b[K     |██████████████▍                 | 1.0MB 30.3MB/s eta 0:00:01\r\u001b[K     |██████████████▋                 | 1.0MB 30.3MB/s eta 0:00:01\r\u001b[K     |██████████████▊                 | 1.0MB 30.3MB/s eta 0:00:01\r\u001b[K     |██████████████▉                 | 1.0MB 30.3MB/s eta 0:00:01\r\u001b[K     |███████████████                 | 1.1MB 30.3MB/s eta 0:00:01\r\u001b[K     |███████████████▏                | 1.1MB 30.3MB/s eta 0:00:01\r\u001b[K     |███████████████▎                | 1.1MB 30.3MB/s eta 0:00:01\r\u001b[K     |███████████████▍                | 1.1MB 30.3MB/s eta 0:00:01\r\u001b[K     |███████████████▋                | 1.1MB 30.3MB/s eta 0:00:01\r\u001b[K     |███████████████▊                | 1.1MB 30.3MB/s eta 0:00:01\r\u001b[K     |███████████████▉                | 1.1MB 30.3MB/s eta 0:00:01\r\u001b[K     |████████████████                | 1.1MB 30.3MB/s eta 0:00:01\r\u001b[K     |████████████████▏               | 1.1MB 30.3MB/s eta 0:00:01\r\u001b[K     |████████████████▎               | 1.1MB 30.3MB/s eta 0:00:01\r\u001b[K     |████████████████▌               | 1.2MB 30.3MB/s eta 0:00:01\r\u001b[K     |████████████████▋               | 1.2MB 30.3MB/s eta 0:00:01\r\u001b[K     |████████████████▊               | 1.2MB 30.3MB/s eta 0:00:01\r\u001b[K     |█████████████████               | 1.2MB 30.3MB/s eta 0:00:01\r\u001b[K     |█████████████████               | 1.2MB 30.3MB/s eta 0:00:01\r\u001b[K     |█████████████████▏              | 1.2MB 30.3MB/s eta 0:00:01\r\u001b[K     |█████████████████▎              | 1.2MB 30.3MB/s eta 0:00:01\r\u001b[K     |█████████████████▌              | 1.2MB 30.3MB/s eta 0:00:01\r\u001b[K     |█████████████████▋              | 1.2MB 30.3MB/s eta 0:00:01\r\u001b[K     |█████████████████▊              | 1.2MB 30.3MB/s eta 0:00:01\r\u001b[K     |██████████████████              | 1.3MB 30.3MB/s eta 0:00:01\r\u001b[K     |██████████████████              | 1.3MB 30.3MB/s eta 0:00:01\r\u001b[K     |██████████████████▏             | 1.3MB 30.3MB/s eta 0:00:01\r\u001b[K     |██████████████████▍             | 1.3MB 30.3MB/s eta 0:00:01\r\u001b[K     |██████████████████▌             | 1.3MB 30.3MB/s eta 0:00:01\r\u001b[K     |██████████████████▋             | 1.3MB 30.3MB/s eta 0:00:01\r\u001b[K     |██████████████████▉             | 1.3MB 30.3MB/s eta 0:00:01\r\u001b[K     |███████████████████             | 1.3MB 30.3MB/s eta 0:00:01\r\u001b[K     |███████████████████             | 1.3MB 30.3MB/s eta 0:00:01\r\u001b[K     |███████████████████▎            | 1.4MB 30.3MB/s eta 0:00:01\r\u001b[K     |███████████████████▍            | 1.4MB 30.3MB/s eta 0:00:01\r\u001b[K     |███████████████████▌            | 1.4MB 30.3MB/s eta 0:00:01\r\u001b[K     |███████████████████▋            | 1.4MB 30.3MB/s eta 0:00:01\r\u001b[K     |███████████████████▉            | 1.4MB 30.3MB/s eta 0:00:01\r\u001b[K     |████████████████████            | 1.4MB 30.3MB/s eta 0:00:01\r\u001b[K     |████████████████████            | 1.4MB 30.3MB/s eta 0:00:01\r\u001b[K     |████████████████████▎           | 1.4MB 30.3MB/s eta 0:00:01\r\u001b[K     |████████████████████▍           | 1.4MB 30.3MB/s eta 0:00:01\r\u001b[K     |████████████████████▌           | 1.4MB 30.3MB/s eta 0:00:01\r\u001b[K     |████████████████████▊           | 1.5MB 30.3MB/s eta 0:00:01\r\u001b[K     |████████████████████▉           | 1.5MB 30.3MB/s eta 0:00:01\r\u001b[K     |█████████████████████           | 1.5MB 30.3MB/s eta 0:00:01\r\u001b[K     |█████████████████████▏          | 1.5MB 30.3MB/s eta 0:00:01\r\u001b[K     |█████████████████████▎          | 1.5MB 30.3MB/s eta 0:00:01\r\u001b[K     |█████████████████████▍          | 1.5MB 30.3MB/s eta 0:00:01\r\u001b[K     |█████████████████████▋          | 1.5MB 30.3MB/s eta 0:00:01\r\u001b[K     |█████████████████████▊          | 1.5MB 30.3MB/s eta 0:00:01\r\u001b[K     |█████████████████████▉          | 1.5MB 30.3MB/s eta 0:00:01\r\u001b[K     |██████████████████████          | 1.5MB 30.3MB/s eta 0:00:01\r\u001b[K     |██████████████████████▏         | 1.6MB 30.3MB/s eta 0:00:01\r\u001b[K     |██████████████████████▎         | 1.6MB 30.3MB/s eta 0:00:01\r\u001b[K     |██████████████████████▍         | 1.6MB 30.3MB/s eta 0:00:01\r\u001b[K     |██████████████████████▋         | 1.6MB 30.3MB/s eta 0:00:01\r\u001b[K     |██████████████████████▊         | 1.6MB 30.3MB/s eta 0:00:01\r\u001b[K     |██████████████████████▉         | 1.6MB 30.3MB/s eta 0:00:01\r\u001b[K     |███████████████████████         | 1.6MB 30.3MB/s eta 0:00:01\r\u001b[K     |███████████████████████▏        | 1.6MB 30.3MB/s eta 0:00:01\r\u001b[K     |███████████████████████▎        | 1.6MB 30.3MB/s eta 0:00:01\r\u001b[K     |███████████████████████▌        | 1.6MB 30.3MB/s eta 0:00:01\r\u001b[K     |███████████████████████▋        | 1.7MB 30.3MB/s eta 0:00:01\r\u001b[K     |███████████████████████▊        | 1.7MB 30.3MB/s eta 0:00:01\r\u001b[K     |███████████████████████▉        | 1.7MB 30.3MB/s eta 0:00:01\r\u001b[K     |████████████████████████        | 1.7MB 30.3MB/s eta 0:00:01\r\u001b[K     |████████████████████████▏       | 1.7MB 30.3MB/s eta 0:00:01\r\u001b[K     |████████████████████████▎       | 1.7MB 30.3MB/s eta 0:00:01\r\u001b[K     |████████████████████████▌       | 1.7MB 30.3MB/s eta 0:00:01\r\u001b[K     |████████████████████████▋       | 1.7MB 30.3MB/s eta 0:00:01\r\u001b[K     |████████████████████████▊       | 1.7MB 30.3MB/s eta 0:00:01\r\u001b[K     |█████████████████████████       | 1.8MB 30.3MB/s eta 0:00:01\r\u001b[K     |█████████████████████████       | 1.8MB 30.3MB/s eta 0:00:01\r\u001b[K     |█████████████████████████▏      | 1.8MB 30.3MB/s eta 0:00:01\r\u001b[K     |█████████████████████████▍      | 1.8MB 30.3MB/s eta 0:00:01\r\u001b[K     |█████████████████████████▌      | 1.8MB 30.3MB/s eta 0:00:01\r\u001b[K     |█████████████████████████▋      | 1.8MB 30.3MB/s eta 0:00:01\r\u001b[K     |█████████████████████████▉      | 1.8MB 30.3MB/s eta 0:00:01\r\u001b[K     |██████████████████████████      | 1.8MB 30.3MB/s eta 0:00:01\r\u001b[K     |██████████████████████████      | 1.8MB 30.3MB/s eta 0:00:01\r\u001b[K     |██████████████████████████▏     | 1.8MB 30.3MB/s eta 0:00:01\r\u001b[K     |██████████████████████████▍     | 1.9MB 30.3MB/s eta 0:00:01\r\u001b[K     |██████████████████████████▌     | 1.9MB 30.3MB/s eta 0:00:01\r\u001b[K     |██████████████████████████▋     | 1.9MB 30.3MB/s eta 0:00:01\r\u001b[K     |██████████████████████████▉     | 1.9MB 30.3MB/s eta 0:00:01\r\u001b[K     |███████████████████████████     | 1.9MB 30.3MB/s eta 0:00:01\r\u001b[K     |███████████████████████████     | 1.9MB 30.3MB/s eta 0:00:01\r\u001b[K     |███████████████████████████▎    | 1.9MB 30.3MB/s eta 0:00:01\r\u001b[K     |███████████████████████████▍    | 1.9MB 30.3MB/s eta 0:00:01\r\u001b[K     |███████████████████████████▌    | 1.9MB 30.3MB/s eta 0:00:01\r\u001b[K     |███████████████████████████▊    | 1.9MB 30.3MB/s eta 0:00:01\r\u001b[K     |███████████████████████████▉    | 2.0MB 30.3MB/s eta 0:00:01\r\u001b[K     |████████████████████████████    | 2.0MB 30.3MB/s eta 0:00:01\r\u001b[K     |████████████████████████████▏   | 2.0MB 30.3MB/s eta 0:00:01\r\u001b[K     |████████████████████████████▎   | 2.0MB 30.3MB/s eta 0:00:01\r\u001b[K     |████████████████████████████▍   | 2.0MB 30.3MB/s eta 0:00:01\r\u001b[K     |████████████████████████████▌   | 2.0MB 30.3MB/s eta 0:00:01\r\u001b[K     |████████████████████████████▊   | 2.0MB 30.3MB/s eta 0:00:01\r\u001b[K     |████████████████████████████▉   | 2.0MB 30.3MB/s eta 0:00:01\r\u001b[K     |█████████████████████████████   | 2.0MB 30.3MB/s eta 0:00:01\r\u001b[K     |█████████████████████████████▏  | 2.0MB 30.3MB/s eta 0:00:01\r\u001b[K     |█████████████████████████████▎  | 2.1MB 30.3MB/s eta 0:00:01\r\u001b[K     |█████████████████████████████▍  | 2.1MB 30.3MB/s eta 0:00:01\r\u001b[K     |█████████████████████████████▋  | 2.1MB 30.3MB/s eta 0:00:01\r\u001b[K     |█████████████████████████████▊  | 2.1MB 30.3MB/s eta 0:00:01\r\u001b[K     |█████████████████████████████▉  | 2.1MB 30.3MB/s eta 0:00:01\r\u001b[K     |██████████████████████████████  | 2.1MB 30.3MB/s eta 0:00:01\r\u001b[K     |██████████████████████████████▏ | 2.1MB 30.3MB/s eta 0:00:01\r\u001b[K     |██████████████████████████████▎ | 2.1MB 30.3MB/s eta 0:00:01\r\u001b[K     |██████████████████████████████▍ | 2.1MB 30.3MB/s eta 0:00:01\r\u001b[K     |██████████████████████████████▋ | 2.2MB 30.3MB/s eta 0:00:01\r\u001b[K     |██████████████████████████████▊ | 2.2MB 30.3MB/s eta 0:00:01\r\u001b[K     |██████████████████████████████▉ | 2.2MB 30.3MB/s eta 0:00:01\r\u001b[K     |███████████████████████████████ | 2.2MB 30.3MB/s eta 0:00:01\r\u001b[K     |███████████████████████████████▏| 2.2MB 30.3MB/s eta 0:00:01\r\u001b[K     |███████████████████████████████▎| 2.2MB 30.3MB/s eta 0:00:01\r\u001b[K     |███████████████████████████████▌| 2.2MB 30.3MB/s eta 0:00:01\r\u001b[K     |███████████████████████████████▋| 2.2MB 30.3MB/s eta 0:00:01\r\u001b[K     |███████████████████████████████▊| 2.2MB 30.3MB/s eta 0:00:01\r\u001b[K     |████████████████████████████████| 2.2MB 30.3MB/s eta 0:00:01\r\u001b[K     |████████████████████████████████| 2.3MB 30.3MB/s \n",
            "\u001b[?25hRequirement already satisfied: packaging in /usr/local/lib/python3.7/dist-packages (from transformers) (20.9)\n",
            "Requirement already satisfied: tqdm>=4.27 in /usr/local/lib/python3.7/dist-packages (from transformers) (4.41.1)\n",
            "Requirement already satisfied: numpy>=1.17 in /usr/local/lib/python3.7/dist-packages (from transformers) (1.19.5)\n",
            "Requirement already satisfied: filelock in /usr/local/lib/python3.7/dist-packages (from transformers) (3.0.12)\n",
            "Requirement already satisfied: requests in /usr/local/lib/python3.7/dist-packages (from transformers) (2.23.0)\n",
            "Requirement already satisfied: regex!=2019.12.17 in /usr/local/lib/python3.7/dist-packages (from transformers) (2019.12.20)\n",
            "Requirement already satisfied: importlib-metadata; python_version < \"3.8\" in /usr/local/lib/python3.7/dist-packages (from transformers) (4.0.1)\n",
            "Collecting tokenizers<0.11,>=0.10.1\n",
            "\u001b[?25l  Downloading https://files.pythonhosted.org/packages/d4/e2/df3543e8ffdab68f5acc73f613de9c2b155ac47f162e725dcac87c521c11/tokenizers-0.10.3-cp37-cp37m-manylinux_2_5_x86_64.manylinux1_x86_64.manylinux_2_12_x86_64.manylinux2010_x86_64.whl (3.3MB)\n",
            "\u001b[K     |████████████████████████████████| 3.3MB 33.4MB/s \n",
            "\u001b[?25hCollecting huggingface-hub==0.0.8\n",
            "  Downloading https://files.pythonhosted.org/packages/a1/88/7b1e45720ecf59c6c6737ff332f41c955963090a18e72acbcbeac6b25e86/huggingface_hub-0.0.8-py3-none-any.whl\n",
            "Collecting sacremoses\n",
            "\u001b[?25l  Downloading https://files.pythonhosted.org/packages/75/ee/67241dc87f266093c533a2d4d3d69438e57d7a90abb216fa076e7d475d4a/sacremoses-0.0.45-py3-none-any.whl (895kB)\n",
            "\u001b[K     |████████████████████████████████| 901kB 31.8MB/s \n",
            "\u001b[?25hRequirement already satisfied: pyparsing>=2.0.2 in /usr/local/lib/python3.7/dist-packages (from packaging->transformers) (2.4.7)\n",
            "Requirement already satisfied: certifi>=2017.4.17 in /usr/local/lib/python3.7/dist-packages (from requests->transformers) (2020.12.5)\n",
            "Requirement already satisfied: chardet<4,>=3.0.2 in /usr/local/lib/python3.7/dist-packages (from requests->transformers) (3.0.4)\n",
            "Requirement already satisfied: idna<3,>=2.5 in /usr/local/lib/python3.7/dist-packages (from requests->transformers) (2.10)\n",
            "Requirement already satisfied: urllib3!=1.25.0,!=1.25.1,<1.26,>=1.21.1 in /usr/local/lib/python3.7/dist-packages (from requests->transformers) (1.24.3)\n",
            "Requirement already satisfied: typing-extensions>=3.6.4; python_version < \"3.8\" in /usr/local/lib/python3.7/dist-packages (from importlib-metadata; python_version < \"3.8\"->transformers) (3.7.4.3)\n",
            "Requirement already satisfied: zipp>=0.5 in /usr/local/lib/python3.7/dist-packages (from importlib-metadata; python_version < \"3.8\"->transformers) (3.4.1)\n",
            "Requirement already satisfied: click in /usr/local/lib/python3.7/dist-packages (from sacremoses->transformers) (7.1.2)\n",
            "Requirement already satisfied: joblib in /usr/local/lib/python3.7/dist-packages (from sacremoses->transformers) (1.0.1)\n",
            "Requirement already satisfied: six in /usr/local/lib/python3.7/dist-packages (from sacremoses->transformers) (1.15.0)\n",
            "Installing collected packages: tokenizers, huggingface-hub, sacremoses, transformers\n",
            "Successfully installed huggingface-hub-0.0.8 sacremoses-0.0.45 tokenizers-0.10.3 transformers-4.6.1\n"
          ],
          "name": "stdout"
        }
      ]
    },
    {
      "cell_type": "markdown",
      "metadata": {
        "id": "ec2OlCEf4ZEN"
      },
      "source": [
        "# Import pipeline"
      ]
    },
    {
      "cell_type": "code",
      "metadata": {
        "id": "Ss88DlSr3Bin"
      },
      "source": [
        "from transformers import pipeline"
      ],
      "execution_count": 2,
      "outputs": []
    },
    {
      "cell_type": "markdown",
      "metadata": {
        "id": "J8tKST-M4cxc"
      },
      "source": [
        "# Define summarizer"
      ]
    },
    {
      "cell_type": "code",
      "metadata": {
        "colab": {
          "base_uri": "https://localhost:8080/",
          "height": 261,
          "referenced_widgets": [
            "506bb59e959c4c0f89b633f7570cabfd",
            "c8506c76b7cc48f3a4e9713217d18422",
            "f9c3789652f04402a7104ac48e3c6b10",
            "bd10412bc38b4e2fbb4f3a66391c58c2",
            "932deb7fe24f4cffa851df9d0861c148",
            "d15f934412d7452aa3661d32735e1eae",
            "0cd48c7041254f9c9da6427c67d86281",
            "fceb82e63258490596485096a60ad115",
            "aa8f9183d69744338be5e4e0f734ca64",
            "e3811b56e5054245a518c4c000287f7e",
            "277ecb240a7a4b909c00e7ae9367ba42",
            "48aec3252896407b977f8fc3e2979871",
            "548d25267c5147bc8d7bf34012508a82",
            "55dff03bd4ad4dc99d1a3b5e6abf9978",
            "3d1845732bd944159b9d9aca85335803",
            "fc9183cf591c4d31a569e0cf089a8ac0",
            "2bf11a22c71d4d80afff8f9eaf749bfc",
            "14b20de896804a96958ae2583cb81561",
            "fd26cacf0647495e8d2b7d74353d8b4f",
            "a464c75ef89748c08dd967dbff3a9add",
            "739bd67ee2cf457aba4623800a5d7210",
            "159b59d8f98344bf911ceea7c5c357ef",
            "63d918a91942427b8c733920fcc9e0ac",
            "3502e4cbcfaa48ecb885dac6e441fc2e",
            "afb71309b1fc41cc983706250160cc88",
            "57b1f0e6cb8e4e9d9e97c5c47a3112c5",
            "b37db859cc184b099878148bde968e16",
            "636ea64c8c66430da73fb3ff675fac14",
            "84ba3c05040d401e8953a7ac28af05c5",
            "9892f367c9ba4229bf49f77967e24cc4",
            "ca0525df4ce94312ac26e3ab22c5480a",
            "dadd31ea0d5a46d1ac56226217304bc3",
            "0c784e1d682f4671a7a77acd077feb21",
            "5e1f6329d5064366822b46ad52c14b0f",
            "a902a6427fb4441a8fd57e8ebef01304",
            "fb46201e8a5641f792ec5fe08d9c77be",
            "570973e2d76a460ba1140dc5555ad592",
            "ea5077f05e8d4ae49268c78713be8a3d",
            "93a56ac462ed4ea0bf7f3bbac89389b5",
            "facf59ba848a4b9c9ea7dccc3f6b9b48"
          ]
        },
        "id": "ps5cRMiW3Pwy",
        "outputId": "b41551bb-a153-48d5-a826-1d826a174d5e"
      },
      "source": [
        "summarizer=pipeline(\"summarization\")"
      ],
      "execution_count": 3,
      "outputs": [
        {
          "output_type": "display_data",
          "data": {
            "application/vnd.jupyter.widget-view+json": {
              "model_id": "506bb59e959c4c0f89b633f7570cabfd",
              "version_minor": 0,
              "version_major": 2
            },
            "text/plain": [
              "HBox(children=(FloatProgress(value=0.0, description='Downloading', max=1649.0, style=ProgressStyle(description…"
            ]
          },
          "metadata": {
            "tags": []
          }
        },
        {
          "output_type": "stream",
          "text": [
            "\n"
          ],
          "name": "stdout"
        },
        {
          "output_type": "display_data",
          "data": {
            "application/vnd.jupyter.widget-view+json": {
              "model_id": "aa8f9183d69744338be5e4e0f734ca64",
              "version_minor": 0,
              "version_major": 2
            },
            "text/plain": [
              "HBox(children=(FloatProgress(value=0.0, description='Downloading', max=1222317369.0, style=ProgressStyle(descr…"
            ]
          },
          "metadata": {
            "tags": []
          }
        },
        {
          "output_type": "stream",
          "text": [
            "\n"
          ],
          "name": "stdout"
        },
        {
          "output_type": "display_data",
          "data": {
            "application/vnd.jupyter.widget-view+json": {
              "model_id": "2bf11a22c71d4d80afff8f9eaf749bfc",
              "version_minor": 0,
              "version_major": 2
            },
            "text/plain": [
              "HBox(children=(FloatProgress(value=0.0, description='Downloading', max=898822.0, style=ProgressStyle(descripti…"
            ]
          },
          "metadata": {
            "tags": []
          }
        },
        {
          "output_type": "stream",
          "text": [
            "\n"
          ],
          "name": "stdout"
        },
        {
          "output_type": "display_data",
          "data": {
            "application/vnd.jupyter.widget-view+json": {
              "model_id": "afb71309b1fc41cc983706250160cc88",
              "version_minor": 0,
              "version_major": 2
            },
            "text/plain": [
              "HBox(children=(FloatProgress(value=0.0, description='Downloading', max=456318.0, style=ProgressStyle(descripti…"
            ]
          },
          "metadata": {
            "tags": []
          }
        },
        {
          "output_type": "stream",
          "text": [
            "\n"
          ],
          "name": "stdout"
        },
        {
          "output_type": "display_data",
          "data": {
            "application/vnd.jupyter.widget-view+json": {
              "model_id": "0c784e1d682f4671a7a77acd077feb21",
              "version_minor": 0,
              "version_major": 2
            },
            "text/plain": [
              "HBox(children=(FloatProgress(value=0.0, description='Downloading', max=26.0, style=ProgressStyle(description_w…"
            ]
          },
          "metadata": {
            "tags": []
          }
        },
        {
          "output_type": "stream",
          "text": [
            "\n"
          ],
          "name": "stdout"
        }
      ]
    },
    {
      "cell_type": "markdown",
      "metadata": {
        "id": "hyTYLKKI4gjz"
      },
      "source": [
        "# Input Paragraph"
      ]
    },
    {
      "cell_type": "code",
      "metadata": {
        "id": "iR4l6mDn3Y6Z"
      },
      "source": [
        "paragraph=\"\"\"\n",
        "Dr. APJ Abdul Kalam is a famous name in the whole world. He is counted among the greatest scientists of the 21st century. Even more, he becomes the 11th president of India and served his country. He was the most valued person of the country as his contribution as a scientist and as a president is beyond compare. Apart from that, his contribution to the ISRO (Indian Space Research Organization) is remarkable. He headed many projects that contributed to the society also he was the one who helped in the development of Agni and Prithvi missiles. For his involvement in the Nuclear power in India, he was known as “Missile Man of India”. And due to his contribution to the country, the government awarded him with the highest civilian award.\n",
        "APJ Abdul Kalam was born in Tamil Nadu. At that time the financial condition of his family was poor so from an early age he started supporting his family financially. But he never gave up education. Along with supporting his family he continued his studies and completed graduation. Above all, he was a member of the Pokhran nuclear test conducted in 1998.\n",
        "\n",
        "There is a countless contribution of Dr.APJ Abdul Kalam to the country but he was most famous for his greatest contribution that is the development of missiles that goes by the name Agni and Prithvi.\n",
        "\"\"\""
      ],
      "execution_count": 7,
      "outputs": []
    },
    {
      "cell_type": "markdown",
      "metadata": {
        "id": "KXdAlxGY4ovp"
      },
      "source": [
        "# Summarized Result"
      ]
    },
    {
      "cell_type": "code",
      "metadata": {
        "colab": {
          "base_uri": "https://localhost:8080/"
        },
        "id": "38jrGLlW37kd",
        "outputId": "f3ba9611-7001-4878-adb4-6bf06c38531a"
      },
      "source": [
        "summarizer(paragraph,max_length=100,min_length=30,do_sample=False)"
      ],
      "execution_count": 8,
      "outputs": [
        {
          "output_type": "execute_result",
          "data": {
            "text/plain": [
              "[{'summary_text': ' Dr. APJ Abdul Kalam is counted among the greatest scientists of the 21st century . He was the 11th president of India and served his country . He helped in the development of Agni and Prithvi missiles .'}]"
            ]
          },
          "metadata": {
            "tags": []
          },
          "execution_count": 8
        }
      ]
    }
  ]
}